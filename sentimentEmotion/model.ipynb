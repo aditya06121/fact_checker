{
 "cells": [
  {
   "cell_type": "markdown",
   "id": "19f95c12",
   "metadata": {},
   "source": [
    "For training/testing/evaluating the model"
   ]
  },
  {
   "cell_type": "code",
   "execution_count": 1,
   "id": "c4775940",
   "metadata": {},
   "outputs": [
    {
     "name": "stderr",
     "output_type": "stream",
     "text": [
      "/Users/aditya/Developer/fact_checker/.venv/lib/python3.13/site-packages/tqdm/auto.py:21: TqdmWarning: IProgress not found. Please update jupyter and ipywidgets. See https://ipywidgets.readthedocs.io/en/stable/user_install.html\n",
      "  from .autonotebook import tqdm as notebook_tqdm\n"
     ]
    }
   ],
   "source": [
    "from transformers import AutoTokenizer, AutoModelForSequenceClassification, pipeline\n",
    "import torch\n",
    "\n",
    "# Load Sentiment model and tokenizer\n",
    "sentiment_model_name = \"cardiffnlp/twitter-roberta-base-sentiment\"\n",
    "sentiment_tokenizer = AutoTokenizer.from_pretrained(sentiment_model_name)\n",
    "sentiment_model = AutoModelForSequenceClassification.from_pretrained(sentiment_model_name)\n",
    "\n",
    "# Load Emotion model and tokenizer\n",
    "emotion_model_name = \"j-hartmann/emotion-english-distilroberta-base\"\n",
    "emotion_tokenizer = AutoTokenizer.from_pretrained(emotion_model_name)\n",
    "emotion_model = AutoModelForSequenceClassification.from_pretrained(emotion_model_name)"
   ]
  },
  {
   "cell_type": "code",
   "execution_count": 2,
   "id": "95fb5480",
   "metadata": {},
   "outputs": [],
   "source": [
    "import torch.nn.functional as F\n",
    "\n",
    "# Map for sentiment labels (cardiffnlp model)\n",
    "sentiment_labels = ['Negative', 'Neutral', 'Positive']\n",
    "\n",
    "# Map for emotion labels (j-hartmann model)\n",
    "emotion_labels = ['anger', 'disgust', 'fear', 'joy', 'neutral', 'sadness', 'surprise']\n",
    "\n",
    "def predict_sentiment(text):\n",
    "    inputs = sentiment_tokenizer(text, return_tensors=\"pt\", truncation=True)\n",
    "    with torch.no_grad():\n",
    "        outputs = sentiment_model(**inputs)\n",
    "    scores = F.softmax(outputs.logits, dim=1)[0]\n",
    "    max_score_idx = torch.argmax(scores).item()\n",
    "    return {\n",
    "        \"label\": sentiment_labels[max_score_idx],\n",
    "        \"score\": scores[max_score_idx].item()\n",
    "    }\n",
    "\n",
    "def predict_emotion(text):\n",
    "    inputs = emotion_tokenizer(text, return_tensors=\"pt\", truncation=True)\n",
    "    with torch.no_grad():\n",
    "        outputs = emotion_model(**inputs)\n",
    "    scores = F.softmax(outputs.logits, dim=1)[0]\n",
    "    max_score_idx = torch.argmax(scores).item()\n",
    "    return {\n",
    "        \"label\": emotion_labels[max_score_idx],\n",
    "        \"score\": scores[max_score_idx].item()\n",
    "    }\n"
   ]
  },
  {
   "cell_type": "code",
   "execution_count": 3,
   "id": "ee312427",
   "metadata": {},
   "outputs": [
    {
     "name": "stderr",
     "output_type": "stream",
     "text": [
      "Asking to truncate to max_length but no maximum length is provided and the model has no predefined maximum length. Default to no truncation.\n"
     ]
    },
    {
     "name": "stdout",
     "output_type": "stream",
     "text": [
      "Sentiment: {'label': 'Negative', 'score': 0.7228479385375977}\n",
      "Emotion: {'label': 'fear', 'score': 0.9862047433853149}\n"
     ]
    }
   ],
   "source": [
    "headline = \"Breaking: Major Earthquake Strikes City\"\n",
    "article = \"\"\"\n",
    "A powerful earthquake measuring 7.8 magnitude struck the city early this morning,\n",
    "causing widespread damage and panic among residents. Emergency services are responding.\n",
    "\"\"\"\n",
    "\n",
    "full_text = headline + \" \" + article\n",
    "\n",
    "sentiment_result = predict_sentiment(full_text)\n",
    "emotion_result = predict_emotion(full_text)\n",
    "\n",
    "print(\"Sentiment:\", sentiment_result)\n",
    "print(\"Emotion:\", emotion_result)\n"
   ]
  },
  {
   "cell_type": "code",
   "execution_count": null,
   "id": "afc861d8",
   "metadata": {},
   "outputs": [],
   "source": []
  }
 ],
 "metadata": {
  "kernelspec": {
   "display_name": ".venv",
   "language": "python",
   "name": "python3"
  },
  "language_info": {
   "codemirror_mode": {
    "name": "ipython",
    "version": 3
   },
   "file_extension": ".py",
   "mimetype": "text/x-python",
   "name": "python",
   "nbconvert_exporter": "python",
   "pygments_lexer": "ipython3",
   "version": "3.13.3"
  }
 },
 "nbformat": 4,
 "nbformat_minor": 5
}
